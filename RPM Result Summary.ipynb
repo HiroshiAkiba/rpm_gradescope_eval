{
 "cells": [
  {
   "cell_type": "code",
   "execution_count": null,
   "id": "d9a9a424",
   "metadata": {},
   "outputs": [],
   "source": [
    "import pyperclip\n",
    "import pandas as pd\n",
    "from IPython.display import display"
   ]
  },
  {
   "cell_type": "code",
   "execution_count": null,
   "id": "c743cd74",
   "metadata": {},
   "outputs": [],
   "source": [
    "# Read the clipboard content\n",
    "clipboard_content = pyperclip.paste()\n",
    "basic_results, pass_fail = display_results_basic(clipboard_content)\n",
    "display(basic_results)\n",
    "display(pass_fail)"
   ]
  },
  {
   "cell_type": "code",
   "execution_count": null,
   "id": "90d4cf64",
   "metadata": {},
   "outputs": [],
   "source": [
    "clipboard_content = pyperclip.paste()\n",
    "test_results, pass_fail = display_results_test(clipboard_content)\n",
    "display(test_results)\n",
    "display(pass_fail)"
   ]
  },
  {
   "cell_type": "code",
   "execution_count": null,
   "id": "f46f524e",
   "metadata": {},
   "outputs": [],
   "source": [
    "def display_results_basic(clipboard):\n",
    "    # Initialize a dictionary to hold the grouped results\n",
    "    basic_results = {}\n",
    "\n",
    "    # Split the data into lines\n",
    "    lines = clipboard.strip().split('\\n')\n",
    "\n",
    "    # Iterate through the lines and extract Basic problem results\n",
    "    current_group = None\n",
    "\n",
    "    index = 0\n",
    "    while index < len(lines):\n",
    "        line = lines[index]\n",
    "        if line == \"Software:\":\n",
    "            break\n",
    "        if line.startswith(\"Basic\"):\n",
    "            problem = line.split(\" \")[1].split(\"-\")\n",
    "            p_set = problem[0]\n",
    "            number = problem[1]\n",
    "            if p_set not in basic_results:\n",
    "                basic_results[p_set] = {}\n",
    "\n",
    "            result = \"\"\n",
    "            if lines[index+1]:\n",
    "                if lines[index+1] == \"Pass\":\n",
    "                    result = \"Pass\"\n",
    "                    index += 1\n",
    "                if lines[index+1] == \"Fail\":\n",
    "                    result = \"Fail\"\n",
    "                    index += 3\n",
    "\n",
    "            basic_results[p_set][number] = result\n",
    "        index += 1\n",
    "        \n",
    "    pass_fail_counts = {}\n",
    "    for p_set, results in basic_results.items():\n",
    "        pass_count = sum(1 for result in results.values() if result == \"Pass\")\n",
    "        fail_count = sum(1 for result in results.values() if result == \"Fail\")\n",
    "        pass_fail_counts[p_set] = {\"Total Pass\": pass_count, \"Total Fail\": fail_count}\n",
    "    pf_df_basic = pd.DataFrame(pass_fail_counts)\n",
    "\n",
    "    df_basic = pd.DataFrame(basic_results).sort_index()\n",
    "    styled_df_basic = df_basic.style.map(highlight_cells)\n",
    "    return(styled_df_basic, pf_df_basic)"
   ]
  },
  {
   "cell_type": "code",
   "execution_count": null,
   "id": "374d07c8",
   "metadata": {},
   "outputs": [],
   "source": [
    "def display_results_test(clipboard):\n",
    "    # Initialize a dictionary to hold the grouped results\n",
    "    test_results = {}\n",
    "\n",
    "    # Split the data into lines\n",
    "    lines = clipboard.strip().split('\\n')\n",
    "\n",
    "    # Iterate through the lines and extract Test problem results\n",
    "    current_group = None\n",
    "\n",
    "    index = 0\n",
    "    while index < len(lines):\n",
    "        line = lines[index]\n",
    "        if line == \"Software:\":\n",
    "            break\n",
    "        if line.startswith(\"Test\"):\n",
    "            problem = line.split(\" \")[1].split(\"-\")\n",
    "            p_set = problem[0]\n",
    "            number = problem[1]\n",
    "            if p_set not in test_results:\n",
    "                test_results[p_set] = {}\n",
    "\n",
    "            result = \"\"\n",
    "            if lines[index+1]:\n",
    "                result = lines[index+1]\n",
    "                index += 1\n",
    "\n",
    "            test_results[p_set][number] = result\n",
    "\n",
    "        index += 1\n",
    "    \n",
    "    pass_fail_counts = {}\n",
    "    for p_set, results in test_results.items():\n",
    "        pass_count = sum(1 for result in results.values() if result == \"Pass\")\n",
    "        fail_count = sum(1 for result in results.values() if result == \"Fail\")\n",
    "        pass_fail_counts[p_set] = {\"Total Pass\": pass_count, \"Total Fail\": fail_count}\n",
    "    pf_df_test = pd.DataFrame(pass_fail_counts)\n",
    "\n",
    "    df_test = pd.DataFrame(test_results).sort_index()\n",
    "    styled_df_test = df_test.style.map(highlight_cells)\n",
    "    return(styled_df_test, pf_df_test)"
   ]
  },
  {
   "cell_type": "code",
   "execution_count": null,
   "id": "7858312f",
   "metadata": {},
   "outputs": [],
   "source": [
    "def highlight_cells(val):\n",
    "    color = ''\n",
    "    if val == 'Fail':\n",
    "        color = 'red'\n",
    "    elif val == 'Pass':\n",
    "        color = 'green'\n",
    "    return f'color: {color}'"
   ]
  },
  {
   "cell_type": "code",
   "execution_count": null,
   "id": "08561e8c",
   "metadata": {},
   "outputs": [],
   "source": []
  }
 ],
 "metadata": {
  "kernelspec": {
   "display_name": "Python 3 (ipykernel)",
   "language": "python",
   "name": "python3"
  },
  "language_info": {
   "codemirror_mode": {
    "name": "ipython",
    "version": 3
   },
   "file_extension": ".py",
   "mimetype": "text/x-python",
   "name": "python",
   "nbconvert_exporter": "python",
   "pygments_lexer": "ipython3",
   "version": "3.11.7"
  }
 },
 "nbformat": 4,
 "nbformat_minor": 5
}
